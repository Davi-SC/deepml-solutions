{
 "cells": [
  {
   "cell_type": "markdown",
   "id": "7e0c71dd",
   "metadata": {},
   "source": [
    "## Matrix Transformation\n",
    "Write a Python function that transforms a given matrix A using the operation \\(T^{-1}AS\\), where T and S are invertible matrices. The function should first validate if the matrices T and S are invertible, and then perform the transformation. In cases where there is no solution return -1"
   ]
  },
  {
   "cell_type": "markdown",
   "id": "474fef40",
   "metadata": {},
   "source": [
    "### Using Numpy\n",
    "\n",
    "- np.linalg.inv() computes the inverse of a square matrix\n",
    "- np.linalg.det() computes the determinant of a square matrix, if determinant equals 0 the matrix is singular(not invertible)\n",
    "- np.matmul() performs matrix multiplication (equivalent to the @ operator in Python)"
   ]
  },
  {
   "cell_type": "code",
   "execution_count": null,
   "id": "0c83068c",
   "metadata": {},
   "outputs": [],
   "source": [
    "import numpy as np\n",
    "\n",
    "def transform_matrix(A: list[list[int|float]], T: list[list[int|float]], S: list[list[int|float]]) -> list[list[int|float]]:\n",
    "    a = np.array(A) \n",
    "    t = np.array(T)\n",
    "    s = np.array(S)\n",
    "    t_inv = np.linalg.inv(t)\n",
    "\n",
    "    if np.linalg.det(t) == 0 or np.linalg.det(s) == 0:\n",
    "        return -1\n",
    "\n",
    "    transformed_matrix = np.matmul(t_inv,np.matmul(a,s))\n",
    "\n",
    "    return transformed_matrix.tolist()"
   ]
  },
  {
   "cell_type": "markdown",
   "id": "3baea7e9",
   "metadata": {},
   "source": [
    "Pytorch"
   ]
  },
  {
   "cell_type": "code",
   "execution_count": null,
   "id": "1f718c48",
   "metadata": {},
   "outputs": [],
   "source": []
  }
 ],
 "metadata": {
  "kernelspec": {
   "display_name": "Python 3",
   "language": "python",
   "name": "python3"
  },
  "language_info": {
   "name": "python",
   "version": "3.12.10"
  }
 },
 "nbformat": 4,
 "nbformat_minor": 5
}
