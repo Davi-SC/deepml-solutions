{
 "cells": [
  {
   "cell_type": "markdown",
   "id": "66e0ca3f",
   "metadata": {},
   "source": [
    "## Linear Regression Using Normal Equation\n",
    "Write a Python function that performs linear regression using the normal equation. The function should take a matrix X (features) and a vector y (target) as input, and return the coefficients of the linear regression model. Round your answer to four decimal places, -0.0 is a valid result for rounding a very small number."
   ]
  },
  {
   "cell_type": "markdown",
   "id": "43ecf7c6",
   "metadata": {},
   "source": [
    "Normal Equation: $$theta = (X^T X)^(-1) X^T y$$\n",
    " - With numpy we can write the normal equation like: $$theta = np.linalg.inv(X.T@X) @ X.T @ y$$\n",
    " - With Pytorch is: $$theta = torch.inverse(X.T @ X) @ X.T @ y$$"
   ]
  },
  {
   "cell_type": "markdown",
   "id": "b7ef6e95",
   "metadata": {},
   "source": [
    "### Using numpy"
   ]
  },
  {
   "cell_type": "code",
   "execution_count": 1,
   "id": "118b9028",
   "metadata": {},
   "outputs": [],
   "source": [
    "import numpy as np\n",
    "def linear_regression_normal_equation(X: list[list[float]], y: list[float]) -> list[float]:\n",
    "    X = np.array(X)\n",
    "    y = np.array(y)\n",
    "    theta = np.linalg.inv(X.T@X) @ X.T @ y\n",
    "\n",
    "    return np.round(theta,4).tolist()"
   ]
  },
  {
   "cell_type": "code",
   "execution_count": 2,
   "id": "a24d9196",
   "metadata": {},
   "outputs": [
    {
     "name": "stdout",
     "output_type": "stream",
     "text": [
      "[-0.0, 1.0]\n"
     ]
    }
   ],
   "source": [
    "X = [[1, 1], [1, 2], [1, 3]]\n",
    "y = [1, 2, 3]\n",
    "\n",
    "print(linear_regression_normal_equation(X, y))"
   ]
  },
  {
   "cell_type": "markdown",
   "id": "cbd8cb71",
   "metadata": {},
   "source": [
    "### Using Pytorch"
   ]
  },
  {
   "cell_type": "code",
   "execution_count": 3,
   "id": "e3db7834",
   "metadata": {},
   "outputs": [],
   "source": [
    "import torch\n",
    "\n",
    "def linear_regression_normal_equation(X, y) -> torch.Tensor:\n",
    "    \"\"\"\n",
    "    Solve linear regression via the normal equation using PyTorch.\n",
    "    X: Tensor or convertible of shape (m,n); y: shape (m,) or (m,1).\n",
    "    Returns a 1-D tensor of length n, rounded to 4 decimals.\n",
    "    \"\"\"\n",
    "    X_t = torch.as_tensor(X, dtype=torch.float)\n",
    "    y_t = torch.as_tensor(y, dtype=torch.float).reshape(-1,1)\n",
    "    # Your implementation here\n",
    "    theta = torch.inverse(X.T @ X) @ X.T @ y\n",
    "    return torch.round(theta.flatten() * 10000) / 10000"
   ]
  },
  {
   "cell_type": "code",
   "execution_count": 6,
   "id": "709e59f0",
   "metadata": {},
   "outputs": [
    {
     "name": "stdout",
     "output_type": "stream",
     "text": [
      "[0.0, 1.0]\n"
     ]
    }
   ],
   "source": [
    "import torch \n",
    "X = torch.tensor([[1.0,1.0],[1.0,2.0],[1.0,3.0]]) \n",
    "y = torch.tensor([1.0,2.0,3.0])\n",
    "res = linear_regression_normal_equation(X, y) \n",
    "print(res.detach().numpy().tolist())"
   ]
  }
 ],
 "metadata": {
  "kernelspec": {
   "display_name": "Python 3",
   "language": "python",
   "name": "python3"
  },
  "language_info": {
   "codemirror_mode": {
    "name": "ipython",
    "version": 3
   },
   "file_extension": ".py",
   "mimetype": "text/x-python",
   "name": "python",
   "nbconvert_exporter": "python",
   "pygments_lexer": "ipython3",
   "version": "3.12.10"
  }
 },
 "nbformat": 4,
 "nbformat_minor": 5
}
