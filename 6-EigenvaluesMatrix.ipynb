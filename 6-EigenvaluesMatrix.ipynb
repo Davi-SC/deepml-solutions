{
 "cells": [
  {
   "cell_type": "markdown",
   "id": "df32fdad",
   "metadata": {},
   "source": [
    "## Calculate Eigenvalues of a Matrix\n",
    "Write a Python function that calculates the eigenvalues of a 2x2 matrix. The function should return a list containing the eigenvalues, sort values from highest to lowest."
   ]
  },
  {
   "cell_type": "code",
   "execution_count": 1,
   "id": "3fff39f1",
   "metadata": {},
   "outputs": [],
   "source": [
    "import numpy as np\n",
    "def calculate_eigenvalues(matrix: list[list[float|int]]) -> list[float]:\n",
    "    matrix_np = np.array(matrix)\n",
    "\n",
    "    val,vec = np.linalg.eig(matrix_np)\n",
    "    eigenvalues = val\n",
    "    return eigenvalues"
   ]
  },
  {
   "cell_type": "code",
   "execution_count": 2,
   "id": "e126f9df",
   "metadata": {},
   "outputs": [
    {
     "name": "stdout",
     "output_type": "stream",
     "text": [
      "[3. 1.]\n"
     ]
    }
   ],
   "source": [
    "print(calculate_eigenvalues([[2, 1], [1, 2]]))"
   ]
  },
  {
   "cell_type": "markdown",
   "id": "52fcfb2c",
   "metadata": {},
   "source": [
    "The function **np.linalg.eig()** returns the eigenvalues and eigenvectors of a matrix. For a symmetric matrix we can use **np.linalg.eigh()**"
   ]
  }
 ],
 "metadata": {
  "kernelspec": {
   "display_name": "Python 3",
   "language": "python",
   "name": "python3"
  },
  "language_info": {
   "codemirror_mode": {
    "name": "ipython",
    "version": 3
   },
   "file_extension": ".py",
   "mimetype": "text/x-python",
   "name": "python",
   "nbconvert_exporter": "python",
   "pygments_lexer": "ipython3",
   "version": "3.12.10"
  }
 },
 "nbformat": 4,
 "nbformat_minor": 5
}
